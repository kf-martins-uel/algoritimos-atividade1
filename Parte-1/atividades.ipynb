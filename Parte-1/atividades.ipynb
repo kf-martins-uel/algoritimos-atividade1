{
 "cells": [
  {
   "cell_type": "markdown",
   "id": "8f52578b",
   "metadata": {},
   "source": [
    "# Teste\n",
    "\n",
    "$$ x_1 = \\dfrac{-b+\\sqrt{\\Delta}}{2a} $$\n",
    "\n",
    "```mermaid\n",
    "flowchart TB\n",
    "\n",
    "start([start]) --> a@{shape: manual-input, label: \"$$x_1=\\\\dfrac{-b+\\\\sqrt{\\\\Delta}}{2a}$$\"} --> display@{shape: display, label: \"$$x_1$$\"}\n",
    "```"
   ]
  },
  {
   "cell_type": "code",
   "execution_count": 3,
   "id": "171f2cbb",
   "metadata": {},
   "outputs": [
    {
     "name": "stdout",
     "output_type": "stream",
     "text": [
      "teste\n"
     ]
    }
   ],
   "source": [
    "print(\"teste\")"
   ]
  }
 ],
 "metadata": {
  "kernelspec": {
   "display_name": "Python 3",
   "language": "python",
   "name": "python3"
  },
  "language_info": {
   "codemirror_mode": {
    "name": "ipython",
    "version": 3
   },
   "file_extension": ".py",
   "mimetype": "text/x-python",
   "name": "python",
   "nbconvert_exporter": "python",
   "pygments_lexer": "ipython3",
   "version": "3.13.2"
  }
 },
 "nbformat": 4,
 "nbformat_minor": 5
}
